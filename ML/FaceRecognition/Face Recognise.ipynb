{
 "cells": [
  {
   "cell_type": "markdown",
   "metadata": {
    "collapsed": true
   },
   "source": [
    "# Install Pachages"
   ]
  },
  {
   "cell_type": "code",
   "execution_count": null,
   "metadata": {
    "collapsed": true
   },
   "outputs": [],
   "source": [
    "!pip install pygame"
   ]
  },
  {
   "cell_type": "code",
   "execution_count": null,
   "metadata": {
    "collapsed": true
   },
   "outputs": [],
   "source": [
    "!pip install opencv-contrib-python"
   ]
  },
  {
   "cell_type": "code",
   "execution_count": null,
   "metadata": {
    "collapsed": true
   },
   "outputs": [],
   "source": [
    "!pip install gTTS"
   ]
  },
  {
   "cell_type": "markdown",
   "metadata": {},
   "source": [
    "# Initializing database"
   ]
  },
  {
   "cell_type": "code",
   "execution_count": null,
   "metadata": {
    "collapsed": true
   },
   "outputs": [],
   "source": [
    "import os\n",
    "import sys\n",
    "import cv2\n",
    "import numpy as np\n",
    "import pickle\n",
    "\n",
    "\n",
    "def normalize(X, low, high, dtype=None):\n",
    "    \"\"\"Normalizes a given array in X to a value between low and high.\"\"\"\n",
    "    X = np.asarray(X)\n",
    "    minX, maxX = np.min(X), np.max(X)\n",
    "    # normalize to [0...1].\n",
    "    X = X - float(minX)\n",
    "    X = X / float((maxX - minX))\n",
    "    # scale to [low...high].\n",
    "    X = X * (high - low)\n",
    "    X = X + low\n",
    "    if dtype is None:\n",
    "        return np.asarray(X)\n",
    "    return np.asarray(X, dtype=dtype)\n",
    "\n",
    "\n",
    "def read_images(path, sz=None):\n",
    "    \"\"\"Reads the images in a given folder, resizes images on the fly if size is given.\n",
    "\n",
    "    Args:\n",
    "        path: Path to a folder with subfolders representing the subjects (persons).\n",
    "        sz: A tuple with the size Resizes\n",
    "\n",
    "    Returns:\n",
    "        A list [X,y]\n",
    "\n",
    "            X: The images, which is a Python list of numpy arrays.\n",
    "            y: The corresponding labels (the unique number of the subject, person) in a Python list.\n",
    "    \"\"\"\n",
    "    c = 0\n",
    "    X, y, folder = [], [], []\n",
    "    for dirname, dirnames, filenames in os.walk(path):\n",
    "        for subdirname in dirnames:\n",
    "            subject_path = os.path.join(dirname, subdirname)\n",
    "            for filename in os.listdir(subject_path):\n",
    "                try:\n",
    "                    im = cv2.imread(os.path.join(subject_path, filename), cv2.IMREAD_GRAYSCALE)\n",
    "                    # resize to given size (if given)\n",
    "                    if (sz is not None):\n",
    "                        im = cv2.resize(im, sz)\n",
    "                    X.append(np.asarray(im, dtype=np.uint8))\n",
    "                    y.append(c)\n",
    "                    print(os.path.split(subject_path)[1])\n",
    "                    folder.append(os.path.split(subject_path)[1])\n",
    "                except IOError as err:\n",
    "                    print (\"I/O error: {0}\".format(err))\n",
    "                except:\n",
    "                    print (\"Unexpected error:\", sys.exc_info()[0])\n",
    "                    raise\n",
    "            c = c + 1\n",
    "    return [X, y, folder]"
   ]
  },
  {
   "cell_type": "markdown",
   "metadata": {},
   "source": [
    "# Load Images"
   ]
  },
  {
   "cell_type": "code",
   "execution_count": null,
   "metadata": {},
   "outputs": [],
   "source": [
    "[X, y, names] = read_images(r'.\\att_faces')\n",
    "y = np.asarray(y, dtype=np.int32)"
   ]
  },
  {
   "cell_type": "markdown",
   "metadata": {},
   "source": [
    "# Training Model"
   ]
  },
  {
   "cell_type": "code",
   "execution_count": null,
   "metadata": {
    "collapsed": true
   },
   "outputs": [],
   "source": [
    "model = cv2.face.EigenFaceRecognizer_create()\n",
    "model.train(np.asarray(X), np.asarray(y))"
   ]
  },
  {
   "cell_type": "markdown",
   "metadata": {},
   "source": [
    "# Save Model"
   ]
  },
  {
   "cell_type": "code",
   "execution_count": null,
   "metadata": {
    "collapsed": true
   },
   "outputs": [],
   "source": [
    "model.save(\"faces.yml\")"
   ]
  },
  {
   "cell_type": "markdown",
   "metadata": {},
   "source": [
    "# Save Data"
   ]
  },
  {
   "cell_type": "code",
   "execution_count": null,
   "metadata": {},
   "outputs": [],
   "source": [
    "set(names)"
   ]
  },
  {
   "cell_type": "code",
   "execution_count": null,
   "metadata": {
    "collapsed": true
   },
   "outputs": [],
   "source": [
    "for i, n in enumerate( names):\n",
    "    if n == 'somebody':\n",
    "        names[i] = 'John'"
   ]
  },
  {
   "cell_type": "code",
   "execution_count": null,
   "metadata": {},
   "outputs": [],
   "source": [
    "set(names)"
   ]
  },
  {
   "cell_type": "code",
   "execution_count": null,
   "metadata": {
    "collapsed": true
   },
   "outputs": [],
   "source": [
    "with open(\"names.txt\", 'wb') as f:\n",
    "    pickle.dump(names, f)\n",
    "with open(\"y.txt\", 'wb') as f:\n",
    "    pickle.dump(y, f)"
   ]
  },
  {
   "cell_type": "markdown",
   "metadata": {
    "collapsed": true
   },
   "source": [
    "# Recognizing faces"
   ]
  },
  {
   "cell_type": "code",
   "execution_count": null,
   "metadata": {},
   "outputs": [],
   "source": [
    "import cv2\n",
    "import pickle\n",
    "from TextToSpeech import TextToSpeech\n",
    "\n",
    "\n",
    "def getName(model, y, names, img):\n",
    "    [p_label, p_confidence] = model.predict(img)\n",
    "    return (names[y.tolist().index(p_label)], p_confidence)\n",
    "\n",
    "model = cv2.face.EigenFaceRecognizer_create()\n",
    "\n",
    "model.read(\"faces.yml\")\n",
    "with open(\"names.txt\", 'rb') as f:\n",
    "    names = pickle.load(f)\n",
    "with open(\"y.txt\", 'rb') as f:\n",
    "    indices = pickle.load(f)\n",
    "\n",
    "cascPath = \"haarcascade_frontalface_default.xml\"\n",
    "faceCascade = cv2.CascadeClassifier(cascPath)\n",
    "\n",
    "video_capture = cv2.VideoCapture(0)\n",
    "inx = 0\n",
    "\n",
    "while True:\n",
    "    ret, frame = video_capture.read()\n",
    "    gray = cv2.cvtColor(frame, cv2.COLOR_BGR2GRAY)\n",
    "    faces = faceCascade.detectMultiScale(\n",
    "        gray,\n",
    "        scaleFactor=1.2,\n",
    "        minNeighbors=5,\n",
    "        minSize=(30, 30),\n",
    "        flags=cv2.CASCADE_SCALE_IMAGE\n",
    "    )\n",
    "    # Draw a rectangle around the faces\n",
    "    for (x, y, w, h) in faces:\n",
    "        head = gray[y:y + h, x:x + w]\n",
    "        sX = 92.0 / w\n",
    "        sY = 112.0 / w\n",
    "        head = cv2.resize(head, None, fx=sX, fy=sY, interpolation=cv2.INTER_CUBIC)\n",
    "        cv2.imshow('Clip', head)\n",
    "        cv2.moveWindow('Clip', 700, 0)\n",
    "        cv2.rectangle(frame, (x, y), (x + w, y + h), (0, 255, 0), 2)\n",
    "        name, conf = getName(model, indices, names, head)\n",
    "        if conf < 5000:\n",
    "            cv2.putText(frame, str(names.index(name)), (x, y), cv2.FONT_HERSHEY_SIMPLEX, 1, (0, 255, 0))\n",
    "        else:\n",
    "            cv2.putText(frame, \"???\", (x, y), cv2.FONT_HERSHEY_SIMPLEX, 1, (0, 0, 255))\n",
    "    \n",
    "    # Display the resulting frame\n",
    "    cv2.imshow('Video', frame)\n",
    "    cv2.moveWindow('Video', 0, 0)\n",
    "    \n",
    "    k = cv2.waitKey(1) & 0xFF\n",
    "    if k == ord('q'):\n",
    "        break\n",
    "    elif k == ord('s'):\n",
    "        fileName = './FaceCaptured/' + str(inx) + '.pgm'\n",
    "        print( fileName)\n",
    "        cv2.imwrite(fileName, head)\n",
    "        inx += 1\n",
    "    elif k == ord('i'):\n",
    "        name, conf = getName(model, indices, names, head)\n",
    "        print( \" %s %.2f \" % (name, conf))\n",
    "        strToSay = u\"你好嗎\" + name\n",
    "        TextToSpeech.saySomthing(strToSay, \"zh-tw\")\n",
    "        \n",
    "# When everything is done, release the capture\n",
    "video_capture.release()\n",
    "cv2.destroyAllWindows()"
   ]
  },
  {
   "cell_type": "code",
   "execution_count": null,
   "metadata": {
    "collapsed": true
   },
   "outputs": [],
   "source": []
  }
 ],
 "metadata": {
  "kernelspec": {
   "display_name": "Python 3",
   "language": "python",
   "name": "python3"
  },
  "language_info": {
   "codemirror_mode": {
    "name": "ipython",
    "version": 3
   },
   "file_extension": ".py",
   "mimetype": "text/x-python",
   "name": "python",
   "nbconvert_exporter": "python",
   "pygments_lexer": "ipython3",
   "version": "3.6.2"
  }
 },
 "nbformat": 4,
 "nbformat_minor": 2
}
