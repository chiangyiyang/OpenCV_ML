{
 "cells": [
  {
   "cell_type": "code",
   "execution_count": 10,
   "metadata": {},
   "outputs": [
    {
     "name": "stdout",
     "output_type": "stream",
     "text": [
      "./faces/0.pgm\n",
      "./faces/1.pgm\n",
      "./faces/2.pgm\n",
      "./faces/3.pgm\n",
      "./faces/4.pgm\n",
      "./faces/5.pgm\n",
      "./faces/6.pgm\n",
      "./faces/7.pgm\n",
      "./faces/8.pgm\n",
      "./faces/9.pgm\n",
      "./faces/10.pgm\n"
     ]
    }
   ],
   "source": [
    "import cv2\n",
    "\n",
    "cascPath = \"haarcascade_frontalface_default.xml\"\n",
    "faceCascade = cv2.CascadeClassifier(cascPath)\n",
    "\n",
    "video_capture = cv2.VideoCapture(0)\n",
    "inx = 0\n",
    "\n",
    "while(True):\n",
    "    ret, frame = video_capture.read()\n",
    "    \n",
    "    gray = cv2.cvtColor(frame, cv2.COLOR_BGR2GRAY)\n",
    "    \n",
    "    faces = faceCascade.detectMultiScale(\n",
    "        gray,\n",
    "        scaleFactor=1.2,\n",
    "        minNeighbors=5,\n",
    "        minSize=(30, 30),\n",
    "        flags=cv2.CASCADE_SCALE_IMAGE\n",
    "    )\n",
    "    \n",
    "    # Draw a rectangle around the faces\n",
    "    for (x, y, w, h) in faces:\n",
    "        head = gray[y:y + h, x:x + w]\n",
    "        # head = cv2.resize(head, (92/ w, 112/h), interpolation=cv2.INTER_CUBIC)\n",
    "        sX = 92.0 / w\n",
    "        sY = 112.0 / w\n",
    "        head = cv2.resize(head, None, fx=sX, fy=sY, interpolation=cv2.INTER_CUBIC)\n",
    "        cv2.imshow('Clip', head)\n",
    "        cv2.moveWindow('Clip', 700, 0)\n",
    "        # cv2.rectangle(frame, (x, y), (x + w, y + h), (0, 255, 0), 2)\n",
    "        # print \"X: %d Y: %d W: %d, H: %d\" % (x, y, w, h)\n",
    "    \n",
    "    # Display the resulting frame\n",
    "    cv2.imshow('Video', frame)\n",
    "    # head = cv2.equalizeHist(head)\n",
    "    cv2.moveWindow('Video', 0, 0)\n",
    "    k = cv2.waitKey(1) & 0xFF\n",
    "    if k == ord('q'):\n",
    "        break\n",
    "    elif k == ord('s'):\n",
    "        fileName = './FaceCaptured/' + str(inx) + '.pgm'\n",
    "        print( fileName)\n",
    "        cv2.imwrite(fileName, head)\n",
    "        inx += 1\n",
    "\n",
    "# When everything is done, release the capture\n",
    "video_capture.release()\n",
    "cv2.destroyAllWindows()"
   ]
  },
  {
   "cell_type": "code",
   "execution_count": null,
   "metadata": {
    "collapsed": true
   },
   "outputs": [],
   "source": []
  }
 ],
 "metadata": {
  "kernelspec": {
   "display_name": "Python 3",
   "language": "python",
   "name": "python3"
  },
  "language_info": {
   "codemirror_mode": {
    "name": "ipython",
    "version": 3
   },
   "file_extension": ".py",
   "mimetype": "text/x-python",
   "name": "python",
   "nbconvert_exporter": "python",
   "pygments_lexer": "ipython3",
   "version": "3.6.2"
  }
 },
 "nbformat": 4,
 "nbformat_minor": 2
}
